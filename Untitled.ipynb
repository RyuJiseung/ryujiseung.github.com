{
 "cells": [
  {
   "cell_type": "code",
   "execution_count": 5,
   "metadata": {},
   "outputs": [
    {
     "name": "stdout",
     "output_type": "stream",
     "text": [
      "1\n",
      "2\n",
      "3\n",
      "4\n",
      "5\n",
      "6\n",
      "7\n",
      "8\n",
      "9\n",
      "10\n"
     ]
    }
   ],
   "source": [
    "onetoten = range(1, 11)\n",
    "\n",
    "for counts in onetoten:\n",
    "    print (counts)"
   ]
  },
  {
   "cell_type": "code",
   "execution_count": 6,
   "metadata": {},
   "outputs": [
    {
     "name": "stdout",
     "output_type": "stream",
     "text": [
      "1\n",
      "2\n",
      "3\n",
      "4\n",
      "5\n",
      "6\n",
      "7\n",
      "8\n",
      "9\n",
      "10\n"
     ]
    }
   ],
   "source": [
    "for count in range(1, 11):\n",
    "    print (count)"
   ]
  },
  {
   "cell_type": "code",
   "execution_count": 7,
   "metadata": {
    "collapsed": true
   },
   "outputs": [],
   "source": [
    "a=[1,2,3]"
   ]
  },
  {
   "cell_type": "code",
   "execution_count": 8,
   "metadata": {},
   "outputs": [
    {
     "data": {
      "text/plain": [
       "[1, 2, 3]"
      ]
     },
     "execution_count": 8,
     "metadata": {},
     "output_type": "execute_result"
    }
   ],
   "source": [
    "a"
   ]
  },
  {
   "cell_type": "code",
   "execution_count": 10,
   "metadata": {},
   "outputs": [],
   "source": [
    "a=range(1, 10)"
   ]
  },
  {
   "cell_type": "code",
   "execution_count": 11,
   "metadata": {},
   "outputs": [
    {
     "data": {
      "text/plain": [
       "range(1, 10)"
      ]
     },
     "execution_count": 11,
     "metadata": {},
     "output_type": "execute_result"
    }
   ],
   "source": [
    "a"
   ]
  },
  {
   "cell_type": "code",
   "execution_count": 12,
   "metadata": {},
   "outputs": [
    {
     "data": {
      "text/plain": [
       "3"
      ]
     },
     "execution_count": 12,
     "metadata": {},
     "output_type": "execute_result"
    }
   ],
   "source": [
    "a[2]"
   ]
  },
  {
   "cell_type": "code",
   "execution_count": 13,
   "metadata": {},
   "outputs": [
    {
     "data": {
      "text/plain": [
       "1"
      ]
     },
     "execution_count": 13,
     "metadata": {},
     "output_type": "execute_result"
    }
   ],
   "source": [
    "a[0]"
   ]
  },
  {
   "cell_type": "code",
   "execution_count": 41,
   "metadata": {},
   "outputs": [],
   "source": [
    "b=range(2,3)"
   ]
  },
  {
   "cell_type": "code",
   "execution_count": 42,
   "metadata": {},
   "outputs": [
    {
     "data": {
      "text/plain": [
       "2"
      ]
     },
     "execution_count": 42,
     "metadata": {},
     "output_type": "execute_result"
    }
   ],
   "source": [
    "b[0]"
   ]
  },
  {
   "cell_type": "code",
   "execution_count": 25,
   "metadata": {},
   "outputs": [
    {
     "name": "stdout",
     "output_type": "stream",
     "text": [
      "The Current item is:\n",
      "life\n",
      "The Current item is:\n",
      "42\n",
      "The Current item is:\n",
      "the universe\n",
      "The Current item is:\n",
      "6\n",
      "The Current item is:\n",
      "and\n",
      "The Current item is:\n",
      "9\n",
      "The Current item is:\n",
      "everything\n"
     ]
    }
   ],
   "source": [
    "demolist = ['life', 42, 'the universe', 6, 'and', 9, 'everything']\n",
    "for item in demolist:\n",
    "    print (\"The Current item is:\"),\n",
    "    print (item)"
   ]
  },
  {
   "cell_type": "code",
   "execution_count": 43,
   "metadata": {},
   "outputs": [
    {
     "name": "stdout",
     "output_type": "stream",
     "text": [
      "The sum is: 20\n"
     ]
    }
   ],
   "source": [
    "list = [2, 4, 6, 8]\n",
    "sum = 0\n",
    "for num in list:\n",
    "    sum = sum + num\n",
    "\n",
    "print (\"The sum is:\", sum)"
   ]
  },
  {
   "cell_type": "code",
   "execution_count": 44,
   "metadata": {},
   "outputs": [
    {
     "name": "stdout",
     "output_type": "stream",
     "text": [
      "mid test is 2\n",
      "mid test is 5\n",
      "mid test is 9\n",
      "mid test is 14\n",
      "mid test is 15\n",
      "mid test is 17\n",
      "mid test is 20\n"
     ]
    }
   ],
   "source": [
    "list=[2,3,4,5,1,2,3]\n",
    "sum=0\n",
    "for test in list:\n",
    "    sum = sum + test\n",
    "    print(\"mid test is\",sum)"
   ]
  },
  {
   "cell_type": "code",
   "execution_count": 45,
   "metadata": {},
   "outputs": [
    {
     "name": "stdout",
     "output_type": "stream",
     "text": [
      "[4, 5, 7, 8, 9, 1, 0, 7, 10]\n",
      "[0, 1, 4, 5, 7, 7, 8, 9, 10]\n"
     ]
    }
   ],
   "source": [
    "list = [4, 5, 7, 8, 9, 1, 0, 7, 10]\n",
    "print(list)\n",
    "list.sort()\n",
    "print(list)"
   ]
  },
  {
   "cell_type": "code",
   "execution_count": 46,
   "metadata": {},
   "outputs": [
    {
     "name": "stdout",
     "output_type": "stream",
     "text": [
      "Duplicate of 7 found\n"
     ]
    }
   ],
   "source": [
    "prev = list[0]\n",
    "\n",
    "del list[0]\n",
    "for item in list:\n",
    "    if prev == item:\n",
    "        print (\"Duplicate of\", prev, \"found\")\n",
    "    prev = item"
   ]
  },
  {
   "cell_type": "code",
   "execution_count": 47,
   "metadata": {},
   "outputs": [
    {
     "name": "stdout",
     "output_type": "stream",
     "text": [
      "l = [4, 5, 7, 8, 9, 1, 0, 7, 10] \t\tl: [4, 5, 7, 8, 9, 1, 0, 7, 10]\n",
      "l.sort() \t\tl: [0, 1, 4, 5, 7, 7, 8, 9, 10]\n",
      "prev = l[0] \t\tprev: 0\n",
      "[0, 1, 4, 5, 7, 7, 8, 9, 10]\n",
      "[1, 4, 5, 7, 7, 8, 9, 10]\n",
      "del l[0] \t\tl: [1, 4, 5, 7, 7, 8, 9, 10]\n",
      "if prev == item: \tprev: 0 \titem: 1\n",
      "prev = item \t\tprev: 1 \titem: 1\n",
      "if prev == item: \tprev: 1 \titem: 4\n",
      "prev = item \t\tprev: 4 \titem: 4\n",
      "if prev == item: \tprev: 4 \titem: 5\n",
      "prev = item \t\tprev: 5 \titem: 5\n",
      "if prev == item: \tprev: 5 \titem: 7\n",
      "prev = item \t\tprev: 7 \titem: 7\n",
      "Duplicate of 7 found\n",
      "if prev == item: \tprev: 7 \titem: 7\n",
      "prev = item \t\tprev: 7 \titem: 7\n",
      "if prev == item: \tprev: 7 \titem: 8\n",
      "prev = item \t\tprev: 8 \titem: 8\n",
      "if prev == item: \tprev: 8 \titem: 9\n",
      "prev = item \t\tprev: 9 \titem: 9\n",
      "if prev == item: \tprev: 9 \titem: 10\n",
      "prev = item \t\tprev: 10 \titem: 10\n"
     ]
    }
   ],
   "source": [
    "l = [4, 5, 7, 8, 9, 1, 0, 7, 10]\n",
    "print (\"l = [4, 5, 7, 8, 9, 1, 0, 7, 10]\", \"\\t\\tl:\", l)\n",
    "l.sort()\n",
    "print (\"l.sort()\", \"\\t\\tl:\", l)\n",
    "prev = l[0]\n",
    "print (\"prev = l[0]\", \"\\t\\tprev:\", prev)\n",
    "print(l)\n",
    "del l[0]\n",
    "print(l)\n",
    "print (\"del l[0]\", \"\\t\\tl:\", l)\n",
    "for item in l:\n",
    "    if prev == item:\n",
    "        print (\"Duplicate of\", prev, \"found\")\n",
    "    print (\"if prev == item:\", \"\\tprev:\", prev, \"\\titem:\", item)\n",
    "    prev = item\n",
    "    print (\"prev = item\", \"\\t\\tprev:\", prev, \"\\titem:\", item)"
   ]
  },
  {
   "cell_type": "code",
   "execution_count": 53,
   "metadata": {},
   "outputs": [
    {
     "name": "stdout",
     "output_type": "stream",
     "text": [
      "1\n",
      "1\n",
      "2\n",
      "3\n",
      "5\n",
      "8\n",
      "13\n",
      "21\n",
      "34\n"
     ]
    }
   ],
   "source": [
    "a = 1\n",
    "b = 1\n",
    "for c in range(1, 10):\n",
    "    print (a),\n",
    "    n = a + b\n",
    "    a = b\n",
    "    b = n"
   ]
  },
  {
   "cell_type": "code",
   "execution_count": null,
   "metadata": {
    "collapsed": true
   },
   "outputs": [],
   "source": []
  }
 ],
 "metadata": {
  "kernelspec": {
   "display_name": "Python 3",
   "language": "python",
   "name": "python3"
  },
  "language_info": {
   "codemirror_mode": {
    "name": "ipython",
    "version": 3
   },
   "file_extension": ".py",
   "mimetype": "text/x-python",
   "name": "python",
   "nbconvert_exporter": "python",
   "pygments_lexer": "ipython3",
   "version": "3.5.3"
  }
 },
 "nbformat": 4,
 "nbformat_minor": 2
}
